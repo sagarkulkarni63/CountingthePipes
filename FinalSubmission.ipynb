{
 "cells": [
  {
   "cell_type": "code",
   "execution_count": 8,
   "metadata": {},
   "outputs": [],
   "source": [
    "import cv2\n",
    "import imutils\n",
    "import imutils.perspective as presp\n",
    "import scipy.spatial.distance as dist\n",
    "import matplotlib.pyplot as plt\n",
    "import numpy as np\n",
    "import os\n",
    "%matplotlib inline"
   ]
  },
  {
   "cell_type": "code",
   "execution_count": 9,
   "metadata": {},
   "outputs": [
    {
     "name": "stdout",
     "output_type": "stream",
     "text": [
      "Number of pipes are: 10\n"
     ]
    },
    {
     "data": {
      "image/png": "[encoded data removed]",
      "text/plain": [
       "<Figure size 432x288 with 1 Axes>"
      ]
     },
     "metadata": {
      "needs_background": "light"
     },
     "output_type": "display_data"
    }
   ],
   "source": [
    "def grab_contours(cnts):\n",
    "    # OpenCV v2.4, v4-official\n",
    "    if len(cnts) == 2:\n",
    "        return cnts[0]\n",
    "    # OpenCV v3\n",
    "    elif len(cnts) == 3:\n",
    "        return cnts[1]\n",
    "def area(image):\n",
    "    plt.imshow(image)\n",
    "    gray = cv2.cvtColor(image, cv2.COLOR_BGR2GRAY)\n",
    "    plt.imshow(gray, cmap='gray')\n",
    "    edged = cv2.Canny(gray, 120, 255, 1)\n",
    "    plt.imshow(edged, cmap='gray')\n",
    "    thresh, thresh_img=cv2.threshold(gray, 110, 900, cv2.THRESH_BINARY)\n",
    "    rgb_img= cv2.cvtColor(thresh_img, cv2.COLOR_BGR2RGB)\n",
    "    plt.imshow(rgb_img)\n",
    "    cnts = cv2.findContours(thresh_img.copy(), cv2.RETR_TREE, cv2.CHAIN_APPROX_SIMPLE)\n",
    "    cnts=imutils.grab_contours(cnts)\n",
    "    contour_image = thresh_img.copy()\n",
    "    area = 0\n",
    "    for c in cnts:\n",
    "        area += cv2.contourArea(c) \n",
    "        cv2.drawContours(contour_image,[c], 0, (100,5,10), 3)\n",
    "    plt.imshow(thresh_img, cmap='gray')\n",
    "    plt.title(f\"Area: {area}\")\n",
    "    return area\n",
    "### calibrated image of pipes having diameter 'd'###\n",
    "#read calibration image to find area\n",
    "image = cv2.imread(\"Calibration_Image.jpg\")\n",
    "a1=area(image)\n",
    "#in this case maximum number of pipes of diameter 'd' in calibrated area is 14\n",
    "Number_Of_Pipes_In_Calibrated_Area=14\n",
    "#Then calculate area of random stacked pipes and evaluate number of pipes\n",
    "# by comparing with calibrated image.\n",
    "#to try foe different test cases just change 1 from 1-5 in below line\n",
    "image = cv2.imread(\"Test_Case_1.jpg\")\n",
    "a2=area(image)\n",
    "p=(Number_Of_Pipes_In_Calibrated_Area*a2)/a1\n",
    "NumberOfPipes=int(p)\n",
    "print(\"Number of pipes are: %d\" %NumberOfPipes)"
   ]
  },
  {
   "cell_type": "code",
   "execution_count": null,
   "metadata": {},
   "outputs": [],
   "source": []
  },
  {
   "cell_type": "code",
   "execution_count": null,
   "metadata": {},
   "outputs": [],
   "source": []
  },
  {
   "cell_type": "code",
   "execution_count": null,
   "metadata": {},
   "outputs": [],
   "source": []
  },
  {
   "cell_type": "code",
   "execution_count": null,
   "metadata": {},
   "outputs": [],
   "source": []
  },
  {
   "cell_type": "code",
   "execution_count": null,
   "metadata": {},
   "outputs": [],
   "source": []
  },
  {
   "cell_type": "code",
   "execution_count": null,
   "metadata": {},
   "outputs": [],
   "source": []
  },
  {
   "cell_type": "code",
   "execution_count": null,
   "metadata": {},
   "outputs": [],
   "source": []
  },
  {
   "cell_type": "markdown",
   "metadata": {},
   "source": []
  },
  {
   "cell_type": "code",
   "execution_count": null,
   "metadata": {},
   "outputs": [],
   "source": []
  },
  {
   "cell_type": "code",
   "execution_count": null,
   "metadata": {},
   "outputs": [],
   "source": []
  },
  {
   "cell_type": "code",
   "execution_count": null,
   "metadata": {},
   "outputs": [],
   "source": []
  },
  {
   "cell_type": "code",
   "execution_count": null,
   "metadata": {},
   "outputs": [],
   "source": []
  },
  {
   "cell_type": "code",
   "execution_count": null,
   "metadata": {},
   "outputs": [],
   "source": [
    "\n"
   ]
  },
  {
   "cell_type": "code",
   "execution_count": null,
   "metadata": {},
   "outputs": [],
   "source": []
  },
  {
   "cell_type": "markdown",
   "metadata": {},
   "source": []
  },
  {
   "cell_type": "code",
   "execution_count": null,
   "metadata": {},
   "outputs": [],
   "source": []
  },
  {
   "cell_type": "code",
   "execution_count": null,
   "metadata": {},
   "outputs": [],
   "source": [
    "\n"
   ]
  },
  {
   "cell_type": "code",
   "execution_count": null,
   "metadata": {},
   "outputs": [],
   "source": []
  }
 ],
 "metadata": {
  "interpreter": {
   "hash": "cfeafd005a9079f835b7db15bfce7ee7568285a2d0a303de16fea9047b113bc9"
  },
  "kernelspec": {
   "display_name": "Python 3",
   "language": "python",
   "name": "python3"
  },
  "language_info": {
   "codemirror_mode": {
    "name": "ipython",
    "version": 3
   },
   "file_extension": ".py",
   "mimetype": "text/x-python",
   "name": "python",
   "nbconvert_exporter": "python",
   "pygments_lexer": "ipython3",
   "version": "3.8.8"
  }
 },
 "nbformat": 4,
 "nbformat_minor": 2
}
